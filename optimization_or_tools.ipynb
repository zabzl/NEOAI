{
 "cells": [
  {
   "cell_type": "markdown",
   "id": "d29fb4a4",
   "metadata": {},
   "source": [
    "# Комбинаторная оптимизация с OR-Tools\n",
    "\n",
    "Пример задачи рюкзака (knapsack) и её решение с помощью CP-SAT."
   ]
  },
  {
   "cell_type": "code",
   "execution_count": null,
   "id": "c7777bd3",
   "metadata": {},
   "outputs": [],
   "source": [
    "from ortools.sat.python import cp_model\n",
    "\n",
    "# Данные\n",
    "values = [60, 100, 120]\n",
    "weights = [10, 20, 30]\n",
    "capacity = 50\n",
    "n = len(values)\n",
    "\n",
    "# Модель\n",
    "model = cp_model.CpModel()\n",
    "x = [model.NewBoolVar(f'x{i}') for i in range(n)]\n",
    "model.Add(sum(weights[i] * x[i] for i in range(n)) <= capacity)\n",
    "model.Maximize(sum(values[i] * x[i] for i in range(n)))\n",
    "\n",
    "# Решение\n",
    "solver = cp_model.CpSolver()\n",
    "status = solver.Solve(model)\n",
    "if status == cp_model.OPTIMAL:\n",
    "    print('Максимальная ценность:', solver.ObjectiveValue())\n",
    "    print('Выбранные предметы:', [i for i in range(n) if solver.Value(x[i])])\n"
   ]
  }
 ],
 "metadata": {},
 "nbformat": 4,
 "nbformat_minor": 5
}
